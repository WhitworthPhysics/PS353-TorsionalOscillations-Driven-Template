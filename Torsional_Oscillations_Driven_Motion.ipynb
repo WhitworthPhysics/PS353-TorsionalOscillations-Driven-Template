{
  "nbformat": 4,
  "nbformat_minor": 0,
  "metadata": {
    "colab": {
      "name": "Torsional Oscillations-Driven Motion.ipynb",
      "provenance": [],
      "authorship_tag": "ABX9TyNbXZOABJBKoSGtKwveWSc4"
    },
    "kernelspec": {
      "name": "python3",
      "display_name": "Python 3"
    },
    "language_info": {
      "name": "python"
    }
  },
  "cells": [
    {
      "cell_type": "markdown",
      "source": [
        "**Work was done by:** \n",
        "\n",
        "**Data was collected on:**"
      ],
      "metadata": {
        "id": "vpNSGh37NO8z"
      }
    },
    {
      "cell_type": "markdown",
      "source": [
        "# Install and Import Libraries"
      ],
      "metadata": {
        "id": "t-R7YQHzNSLM"
      }
    },
    {
      "cell_type": "code",
      "execution_count": null,
      "metadata": {
        "id": "PUh0iFZzNJl8"
      },
      "outputs": [],
      "source": [
        "!pip install whit-phys-util 1>/dev/null"
      ]
    },
    {
      "cell_type": "code",
      "source": [
        "import numpy as np\n",
        "import pandas as pd\n",
        "import matplotlib.pyplot as plt\n",
        "import whit_phys_util as buc\n",
        "from scipy.optimize import curve_fit\n",
        "from numpy import exp, cos, sin, pi, sqrt"
      ],
      "metadata": {
        "id": "OcaU3drlNWi-"
      },
      "execution_count": null,
      "outputs": []
    },
    {
      "cell_type": "markdown",
      "source": [
        "# Connect to GitHub"
      ],
      "metadata": {
        "id": "s-hkS0iRNdOK"
      }
    },
    {
      "cell_type": "code",
      "source": [
        "repo = buc.local_repository(\"replace me\")"
      ],
      "metadata": {
        "id": "kfePjZj0Nepf"
      },
      "execution_count": null,
      "outputs": []
    },
    {
      "cell_type": "markdown",
      "source": [
        "# Equipment\n",
        "\n",
        "| Description | Manufacturer | Model | ID or SN |\n",
        "| ----------- | ------------ | ----- | -------- |\n",
        "| torsional oscillator | TeachSpin | | |\n",
        "| digital multimeter 1 | | | |\n",
        "| digital multimeter 2 | | | |\n",
        "| oscilloscope | | | |\n",
        "| power supply | | | |\n",
        "| function generator | | | |"
      ],
      "metadata": {
        "id": "pg9eRyObNhW4"
      }
    },
    {
      "cell_type": "markdown",
      "source": [
        "# Determining the Dependence of Magnetic Torque on Current Using the Torque Balance Method"
      ],
      "metadata": {
        "id": "ujygGIIYN9HO"
      }
    },
    {
      "cell_type": "markdown",
      "source": [
        "## Procedure\n",
        "\n",
        "_Briefly describe the procedure. Be sure to include warnings about things to be avoided that might otherwise damage the equipment._"
      ],
      "metadata": {
        "id": "L9T7tuX3OGaf"
      }
    },
    {
      "cell_type": "markdown",
      "source": [
        "## Data"
      ],
      "metadata": {
        "id": "mV1EnieuOKvj"
      }
    },
    {
      "cell_type": "code",
      "source": [
        "torqueBalanceData = np.array([\n",
        "                              [0, ?],\n",
        "                              [0.050, ?],\n",
        "                              [0.100, ?],\n",
        "                              [0.150, ?],\n",
        "                              [0.200, ?],\n",
        "                              [0.250, ?],\n",
        "                              [0.300, ?],\n",
        "                              [0.350, ?],\n",
        "                              [0.400, ?]\n",
        "])\n",
        "R = ? # radius of hub, in meters\n",
        "\n",
        "df_tb = pd.DataFrame(data=torqueBalanceData, columns=['Mass (kg)', 'Current (A)'])"
      ],
      "metadata": {
        "id": "Rea0Y6wSNr7g"
      },
      "execution_count": null,
      "outputs": []
    },
    {
      "cell_type": "markdown",
      "source": [
        "## Analysis"
      ],
      "metadata": {
        "id": "DRZPAril2HLX"
      }
    },
    {
      "cell_type": "markdown",
      "source": [
        "* _Graph the gravitational torque vs. current_\n",
        "* _Find a best fit line and add it the graph_\n",
        "* _Find and graph the residual_"
      ],
      "metadata": {
        "id": "TnOAGwA52Olw"
      }
    },
    {
      "cell_type": "code",
      "source": [
        "g = 9.8 # acceleration due to gravity, m/s^2\n",
        "df_tb['Torque (N*m)'] = ??? # you need to complete this"
      ],
      "metadata": {
        "id": "67NqUa4C2OFK"
      },
      "execution_count": null,
      "outputs": []
    },
    {
      "cell_type": "code",
      "source": [
        "# stuff about the fit will eventually go here, but graph just the data first"
      ],
      "metadata": {
        "id": "gw8zDC9kDIRe"
      },
      "execution_count": null,
      "outputs": []
    },
    {
      "cell_type": "code",
      "source": [
        "fig_tb, ax_tb = plt.subplots(2, figsize=(8,10))\n",
        "# make the plot appear\n",
        "# then add the best fit to that graph\n",
        "# finally add a plot of the residual"
      ],
      "metadata": {
        "id": "lFXnXmqd8cSw"
      },
      "execution_count": null,
      "outputs": []
    },
    {
      "cell_type": "markdown",
      "source": [
        "# Determining the Dependence of Torque on Current Using the Angular Response Method"
      ],
      "metadata": {
        "id": "OWLVTOkE3l2U"
      }
    },
    {
      "cell_type": "markdown",
      "source": [
        "## Procedure\n",
        "\n",
        "_Briefly describe the procedure. Be sure to include warnings about things to be avoided._"
      ],
      "metadata": {
        "id": "DWih6MNJ4jFg"
      }
    },
    {
      "cell_type": "markdown",
      "source": [
        "## Data"
      ],
      "metadata": {
        "id": "_Na00Eyy47zi"
      }
    },
    {
      "cell_type": "code",
      "source": [
        "angularResponseData = np.array([\n",
        "                              [0, ?],\n",
        "                              [0.1, ?],\n",
        "                              [0.2, ?],\n",
        "                              [0.3, ?],\n",
        "                              [0.4, ?],\n",
        "                              [0.5, ?],\n",
        "                              [0.6, ?],\n",
        "                              [0.75, ?],\n",
        "                              [1.00, ?],\n",
        "                              [1.15, ?],\n",
        "                              [1.30, ?],\n",
        "                              [1.5, ?],\n",
        "                              [1.7, ?],\n",
        "                              [1.9, ?]\n",
        "])\n",
        "df_ar = pd.DataFrame(data=angularResponseData, columns=['Current (A)', 'Voltage (V)'])"
      ],
      "metadata": {
        "id": "9zLejwqu4if3"
      },
      "execution_count": null,
      "outputs": []
    },
    {
      "cell_type": "markdown",
      "source": [
        "## Analysis"
      ],
      "metadata": {
        "id": "91FXH4VS97_X"
      }
    },
    {
      "cell_type": "code",
      "source": [
        "kappa = ??? # found previously\n",
        "\n",
        "def angle_from_volt(volt): # found previously\n",
        "  return ???\n",
        "\n",
        "df_ar['Angular Displacement (rad)'] = ???"
      ],
      "metadata": {
        "id": "sP97zfgH99_F"
      },
      "execution_count": null,
      "outputs": []
    },
    {
      "cell_type": "code",
      "source": [
        "df_ar['Torque (N*m)'] = ???"
      ],
      "metadata": {
        "id": "m-gqWY0v_wL4"
      },
      "execution_count": null,
      "outputs": []
    },
    {
      "cell_type": "code",
      "source": [
        "# Graph of magnetic torque vs. current\n",
        "# Fit and residual will be added later\n",
        "fig_ar1, ax_ar1 = plt.subplots(2, figsize=(8,10))"
      ],
      "metadata": {
        "id": "7CMeRmMYAHws"
      },
      "execution_count": null,
      "outputs": []
    },
    {
      "cell_type": "markdown",
      "source": [
        "_Over what range of currents is the torque approximately linear?_"
      ],
      "metadata": {
        "id": "eTvrNYsbDriJ"
      }
    },
    {
      "cell_type": "code",
      "source": [
        "# Using DataFrame selection commands, extra the linear portion\n",
        "df_ar_linear = ???"
      ],
      "metadata": {
        "id": "kIF6iD_FEDhg"
      },
      "execution_count": null,
      "outputs": []
    },
    {
      "cell_type": "code",
      "source": [
        "# Find the best fit line to the portion that is linear\n",
        "# Then add that best fit line to the magnetic torque vs. current graph\n",
        "# Finally create a residual plot (for the entire current range)"
      ],
      "metadata": {
        "id": "phHYJSYtEYjj"
      },
      "execution_count": null,
      "outputs": []
    },
    {
      "cell_type": "markdown",
      "source": [
        "## Reflection\n",
        "\n",
        "_Compare the constant of proportionality for the torque balance method to the angular response method_"
      ],
      "metadata": {
        "id": "-awmGBN9E8tt"
      }
    },
    {
      "cell_type": "markdown",
      "source": [
        "# Shape of Torque vs Current"
      ],
      "metadata": {
        "id": "nC4srL5eFPDh"
      }
    },
    {
      "cell_type": "markdown",
      "source": [
        "_Add a column for $\\Delta \\theta / \\cos(\\Delta \\theta)$ to the DataFrame_"
      ],
      "metadata": {
        "id": "B1pSxJb-Fes7"
      }
    },
    {
      "cell_type": "code",
      "source": [
        "df_ar['Angle/cos(Angle)'] = ???"
      ],
      "metadata": {
        "id": "oo37V1fzFKJy"
      },
      "execution_count": null,
      "outputs": []
    },
    {
      "cell_type": "code",
      "source": [
        "# Graph of angle/cos(angle) vs. current\n",
        "# includes best fit and residual\n",
        "fig_ar2, ax_ar2 = plt.subplots(2, figsize=(8,10))"
      ],
      "metadata": {
        "id": "2aiHA2rGF68s"
      },
      "execution_count": null,
      "outputs": []
    },
    {
      "cell_type": "markdown",
      "source": [
        "# Dependence of Amplitude on Driving Frequency"
      ],
      "metadata": {
        "id": "p2FOwCtyGOam"
      }
    },
    {
      "cell_type": "markdown",
      "source": [
        "## Procedure"
      ],
      "metadata": {
        "id": "RZdHYIb9Oz8t"
      }
    },
    {
      "cell_type": "markdown",
      "source": [
        "## Data"
      ],
      "metadata": {
        "id": "nAe0Io78O2FV"
      }
    },
    {
      "cell_type": "code",
      "source": [
        ""
      ],
      "metadata": {
        "id": "lusEFRtQOzVe"
      },
      "execution_count": null,
      "outputs": []
    },
    {
      "cell_type": "markdown",
      "source": [
        "## Analysis"
      ],
      "metadata": {
        "id": "MPDUBy41O31l"
      }
    },
    {
      "cell_type": "code",
      "source": [
        ""
      ],
      "metadata": {
        "id": "uE3vXLlFO40_"
      },
      "execution_count": null,
      "outputs": []
    },
    {
      "cell_type": "markdown",
      "source": [
        "# Conclusion"
      ],
      "metadata": {
        "id": "BRS0IPOYO-Hr"
      }
    },
    {
      "cell_type": "markdown",
      "source": [
        ""
      ],
      "metadata": {
        "id": "HcrKmlX4PHuq"
      }
    }
  ]
}